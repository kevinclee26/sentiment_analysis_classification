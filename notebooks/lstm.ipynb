{
 "cells": [
  {
   "cell_type": "code",
   "execution_count": 36,
   "id": "d0fecffe",
   "metadata": {},
   "outputs": [],
   "source": [
    "import pandas as pd\n",
    "from keras.preprocessing.text import Tokenizer\n",
    "from keras.preprocessing.sequence import pad_sequences\n",
    "from tensorflow.keras.utils import to_categorical\n",
    "from nltk.stem import WordNetLemmatizer\n",
    "from nltk.tokenize import TweetTokenizer\n",
    "from nltk.corpus import stopwords\n",
    "from nltk.tag import pos_tag\n",
    "from sklearn.model_selection import train_test_split\n",
    "from keras.models import Sequential\n",
    "from keras import layers\n",
    "import time"
   ]
  },
  {
   "cell_type": "code",
   "execution_count": 2,
   "id": "821392e1",
   "metadata": {},
   "outputs": [],
   "source": [
    "df=pd.read_csv('data/sample.csv')"
   ]
  },
  {
   "cell_type": "code",
   "execution_count": 4,
   "id": "0f774406",
   "metadata": {},
   "outputs": [],
   "source": [
    "def data_cleaning(text_list): \n",
    "    stopwords_rem=False\n",
    "    stopwords_en=stopwords.words('english')\n",
    "    lemmatizer=WordNetLemmatizer()\n",
    "    tokenizer=TweetTokenizer()\n",
    "    reconstructed_list=[]\n",
    "    for each_text in text_list: \n",
    "        lemmatized_tokens=[]\n",
    "        tokens=tokenizer.tokenize(each_text.lower())\n",
    "        pos_tags=pos_tag(tokens)\n",
    "        for each_token, tag in pos_tags: \n",
    "            if tag.startswith('NN'): \n",
    "                pos='n'\n",
    "            elif tag.startswith('VB'): \n",
    "                pos='v'\n",
    "            else: \n",
    "                pos='a'\n",
    "            lemmatized_token=lemmatizer.lemmatize(each_token, pos)\n",
    "            if stopwords_rem: # False \n",
    "                if lemmatized_token not in stopwords_en: \n",
    "                    lemmatized_tokens.append(lemmatized_token)\n",
    "            else: \n",
    "                lemmatized_tokens.append(lemmatized_token)\n",
    "        reconstructed_list.append(' '.join(lemmatized_tokens))\n",
    "    return reconstructed_list"
   ]
  },
  {
   "cell_type": "code",
   "execution_count": 33,
   "id": "c4bfb10e",
   "metadata": {},
   "outputs": [
    {
     "data": {
      "text/plain": [
       "{'today': 1, 'be': 2, 'a': 3, 'day': 4, 'good': 5, 'bad': 6, 'ok': 7}"
      ]
     },
     "metadata": {},
     "output_type": "display_data"
    },
    {
     "data": {
      "text/plain": [
       "array([[1, 2, 3, 5, 4],\n",
       "       [1, 2, 3, 6, 4],\n",
       "       [0, 0, 1, 2, 7]], dtype=int32)"
      ]
     },
     "execution_count": 33,
     "metadata": {},
     "output_type": "execute_result"
    }
   ],
   "source": [
    "demo_text=['Today is a good day', 'Today is a bad day', 'Today is ok']\n",
    "demo_text=data_cleaning(demo_text)\n",
    "tokenizer=Tokenizer()\n",
    "tokenizer.fit_on_texts(demo_text)\n",
    "display(tokenizer.word_index)\n",
    "demo_ary=pad_sequences(tokenizer.texts_to_sequences(demo_text))\n",
    "# word_index=tokenizer.word_index\n",
    "# pad_sequences(demo_ary, maxlen=5)\n",
    "demo_ary"
   ]
  },
  {
   "cell_type": "code",
   "execution_count": 51,
   "id": "76e5208c",
   "metadata": {},
   "outputs": [
    {
     "name": "stdout",
     "output_type": "stream",
     "text": [
      "Vocab Size: 1009\n"
     ]
    }
   ],
   "source": [
    "X=df['text']#.sample(200)\n",
    "y=df['label']#.sample(200)\n",
    "\n",
    "X=data_cleaning(X)\n",
    "X_train, X_test, y_train, y_test=train_test_split(X, y, train_size=.9)\n",
    "\n",
    "tokenizer=Tokenizer()\n",
    "tokenizer.fit_on_texts(X_train)\n",
    "vocab_size=len(tokenizer.word_index)+1\n",
    "print(f'Vocab Size: {vocab_size}')\n",
    "X_train=pad_sequences(tokenizer.texts_to_sequences(X_train), maxlen=40)\n",
    "X_test=pad_sequences(tokenizer.texts_to_sequences(X_test), maxlen=40)\n",
    "y_train=to_categorical(y_train)\n",
    "y_test=to_categorical(y_test)"
   ]
  },
  {
   "cell_type": "code",
   "execution_count": 53,
   "id": "6cff2b13",
   "metadata": {},
   "outputs": [
    {
     "name": "stdout",
     "output_type": "stream",
     "text": [
      "Epoch 1/5\n",
      "1/1 [==============================] - 14s 14s/step - loss: 0.6920 - accuracy: 0.5722 - val_loss: 0.6956 - val_accuracy: 0.5000\n",
      "Epoch 2/5\n",
      "1/1 [==============================] - 0s 343ms/step - loss: 0.6854 - accuracy: 0.5611 - val_loss: 0.7015 - val_accuracy: 0.5000\n",
      "Epoch 3/5\n",
      "1/1 [==============================] - 0s 399ms/step - loss: 0.6811 - accuracy: 0.5611 - val_loss: 0.7102 - val_accuracy: 0.5000\n",
      "Epoch 4/5\n",
      "1/1 [==============================] - 0s 469ms/step - loss: 0.6790 - accuracy: 0.5611 - val_loss: 0.7138 - val_accuracy: 0.5000\n",
      "Epoch 5/5\n",
      "1/1 [==============================] - 0s 347ms/step - loss: 0.6762 - accuracy: 0.5611 - val_loss: 0.7121 - val_accuracy: 0.5000\n",
      "Time to train: 20.981783866882324\n"
     ]
    }
   ],
   "source": [
    "current_time=time.time()\n",
    "model=Sequential()\n",
    "model.add(layers.Embedding(input_dim=vocab_size,\\\n",
    "                           output_dim=100,\\\n",
    "                           input_length=40))\n",
    "model.add(layers.Bidirectional(layers.LSTM(128)))\n",
    "model.add(layers.Dense(2,activation='softmax'))\n",
    "model.compile(optimizer='adam',\\\n",
    "              loss='categorical_crossentropy',\\\n",
    "              metrics=['accuracy'])\n",
    "\n",
    "model.fit(X_train,\\\n",
    "          y_train,\\\n",
    "          batch_size=256,\\\n",
    "          epochs=5,\\\n",
    "          validation_data=(X_test,y_test))\n",
    "print(f'Time to train: {time.time()-current_time}')"
   ]
  },
  {
   "cell_type": "code",
   "execution_count": null,
   "id": "0982961c",
   "metadata": {},
   "outputs": [],
   "source": []
  },
  {
   "cell_type": "code",
   "execution_count": null,
   "id": "f7040340",
   "metadata": {},
   "outputs": [],
   "source": []
  },
  {
   "cell_type": "code",
   "execution_count": null,
   "id": "e9acd61a",
   "metadata": {},
   "outputs": [],
   "source": []
  },
  {
   "cell_type": "code",
   "execution_count": 32,
   "id": "4d933ea9",
   "metadata": {},
   "outputs": [
    {
     "data": {
      "text/html": [
       "<div>\n",
       "<style scoped>\n",
       "    .dataframe tbody tr th:only-of-type {\n",
       "        vertical-align: middle;\n",
       "    }\n",
       "\n",
       "    .dataframe tbody tr th {\n",
       "        vertical-align: top;\n",
       "    }\n",
       "\n",
       "    .dataframe thead th {\n",
       "        text-align: right;\n",
       "    }\n",
       "</style>\n",
       "<table border=\"1\" class=\"dataframe\">\n",
       "  <thead>\n",
       "    <tr style=\"text-align: right;\">\n",
       "      <th></th>\n",
       "      <th>0</th>\n",
       "      <th>1</th>\n",
       "      <th>2</th>\n",
       "      <th>3</th>\n",
       "      <th>4</th>\n",
       "      <th>text</th>\n",
       "    </tr>\n",
       "  </thead>\n",
       "  <tbody>\n",
       "    <tr>\n",
       "      <th>0</th>\n",
       "      <td>1</td>\n",
       "      <td>2</td>\n",
       "      <td>3</td>\n",
       "      <td>5</td>\n",
       "      <td>4</td>\n",
       "      <td>today be a good day</td>\n",
       "    </tr>\n",
       "    <tr>\n",
       "      <th>1</th>\n",
       "      <td>1</td>\n",
       "      <td>2</td>\n",
       "      <td>3</td>\n",
       "      <td>6</td>\n",
       "      <td>4</td>\n",
       "      <td>today be a bad day</td>\n",
       "    </tr>\n",
       "    <tr>\n",
       "      <th>2</th>\n",
       "      <td>0</td>\n",
       "      <td>0</td>\n",
       "      <td>1</td>\n",
       "      <td>2</td>\n",
       "      <td>7</td>\n",
       "      <td>today be ok</td>\n",
       "    </tr>\n",
       "  </tbody>\n",
       "</table>\n",
       "</div>"
      ],
      "text/plain": [
       "   0  1  2  3  4                 text\n",
       "0  1  2  3  5  4  today be a good day\n",
       "1  1  2  3  6  4   today be a bad day\n",
       "2  0  0  1  2  7          today be ok"
      ]
     },
     "execution_count": 32,
     "metadata": {},
     "output_type": "execute_result"
    }
   ],
   "source": [
    "demo_df=pd.DataFrame(demo_ary)\n",
    "demo_df['text']=demo_text\n",
    "demo_df"
   ]
  },
  {
   "cell_type": "code",
   "execution_count": 15,
   "id": "973303c4",
   "metadata": {},
   "outputs": [
    {
     "data": {
      "text/plain": [
       "array([[1, 3, 5, 4]], dtype=int32)"
      ]
     },
     "execution_count": 15,
     "metadata": {},
     "output_type": "execute_result"
    }
   ],
   "source": [
    "pad_sequences(tokenizer.texts_to_sequences(['Today is a good day']))"
   ]
  },
  {
   "cell_type": "code",
   "execution_count": null,
   "id": "d15eb4d0",
   "metadata": {},
   "outputs": [],
   "source": [
    "y_train=to_categorical(y_train)\n",
    "y_test=to_categorical(y_test)"
   ]
  }
 ],
 "metadata": {
  "kernelspec": {
   "display_name": "Python 3",
   "language": "python",
   "name": "python3"
  },
  "language_info": {
   "codemirror_mode": {
    "name": "ipython",
    "version": 3
   },
   "file_extension": ".py",
   "mimetype": "text/x-python",
   "name": "python",
   "nbconvert_exporter": "python",
   "pygments_lexer": "ipython3",
   "version": "3.7.1"
  }
 },
 "nbformat": 4,
 "nbformat_minor": 5
}
