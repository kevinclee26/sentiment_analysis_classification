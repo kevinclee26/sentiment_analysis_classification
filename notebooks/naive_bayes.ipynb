{
 "cells": [
  {
   "cell_type": "code",
   "execution_count": 41,
   "metadata": {},
   "outputs": [],
   "source": [
    "from sklearn.feature_extraction.text import TfidfVectorizer\n",
    "from sklearn.preprocessing import FunctionTransformer\n",
    "from sklearn.model_selection import train_test_split\n",
    "from sklearn.naive_bayes import MultinomialNB, GaussianNB\n",
    "from sklearn.pipeline import Pipeline\n",
    "from nltk.stem import WordNetLemmatizer\n",
    "from nltk.tokenize import TweetTokenizer\n",
    "from nltk.corpus import stopwords\n",
    "from nltk.tag import pos_tag\n",
    "import pandas as pd\n",
    "import time"
   ]
  },
  {
   "cell_type": "code",
   "execution_count": 2,
   "metadata": {},
   "outputs": [
    {
     "data": {
      "text/html": [
       "<div>\n",
       "<style scoped>\n",
       "    .dataframe tbody tr th:only-of-type {\n",
       "        vertical-align: middle;\n",
       "    }\n",
       "\n",
       "    .dataframe tbody tr th {\n",
       "        vertical-align: top;\n",
       "    }\n",
       "\n",
       "    .dataframe thead th {\n",
       "        text-align: right;\n",
       "    }\n",
       "</style>\n",
       "<table border=\"1\" class=\"dataframe\">\n",
       "  <thead>\n",
       "    <tr style=\"text-align: right;\">\n",
       "      <th></th>\n",
       "      <th>label</th>\n",
       "      <th>text</th>\n",
       "    </tr>\n",
       "  </thead>\n",
       "  <tbody>\n",
       "    <tr>\n",
       "      <th>0</th>\n",
       "      <td>0</td>\n",
       "      <td>@vivmondo Haha, it did not feel like a win at ...</td>\n",
       "    </tr>\n",
       "    <tr>\n",
       "      <th>1</th>\n",
       "      <td>0</td>\n",
       "      <td>again stuck with javascript  #web2.0 designer ...</td>\n",
       "    </tr>\n",
       "    <tr>\n",
       "      <th>2</th>\n",
       "      <td>0</td>\n",
       "      <td>Exhausted...terrible week</td>\n",
       "    </tr>\n",
       "    <tr>\n",
       "      <th>3</th>\n",
       "      <td>0</td>\n",
       "      <td>@dstarr I want my bed  x</td>\n",
       "    </tr>\n",
       "    <tr>\n",
       "      <th>4</th>\n",
       "      <td>0</td>\n",
       "      <td>Hayley is awake &amp;amp; screaming (sick  ). I'll...</td>\n",
       "    </tr>\n",
       "  </tbody>\n",
       "</table>\n",
       "</div>"
      ],
      "text/plain": [
       "   label                                               text\n",
       "0      0  @vivmondo Haha, it did not feel like a win at ...\n",
       "1      0  again stuck with javascript  #web2.0 designer ...\n",
       "2      0                         Exhausted...terrible week \n",
       "3      0                           @dstarr I want my bed  x\n",
       "4      0  Hayley is awake &amp; screaming (sick  ). I'll..."
      ]
     },
     "execution_count": 2,
     "metadata": {},
     "output_type": "execute_result"
    }
   ],
   "source": [
    "df=pd.read_csv('data/sample.csv')\n",
    "df.head()"
   ]
  },
  {
   "cell_type": "code",
   "execution_count": 4,
   "metadata": {},
   "outputs": [],
   "source": [
    "def data_cleaning(text_list): \n",
    "    stopwords_rem=False\n",
    "    stopwords_en=stopwords.words('english')\n",
    "    lemmatizer=WordNetLemmatizer()\n",
    "    tokenizer=TweetTokenizer()\n",
    "    tokens_list=[]\n",
    "    for each_text in text_list: \n",
    "        lemmatized_tokens=[]\n",
    "        tokens=tokenizer.tokenize(each_text.lower())\n",
    "        pos_tags=pos_tag(tokens)\n",
    "        for each_token, tag in pos_tags: \n",
    "            if tag.startswith('NN'): \n",
    "                pos='n'\n",
    "            elif tag.startswith('VB'): \n",
    "                pos='v'\n",
    "            else: \n",
    "                pos='a'\n",
    "            lemmatized_token=lemmatizer.lemmatize(each_token, pos)\n",
    "            if stopwords_rem: # False \n",
    "                if lemmatized_token not in stopwords_en: \n",
    "                    lemmatized_tokens.append(lemmatized_token)\n",
    "            else: \n",
    "                lemmatized_tokens.append(lemmatized_token)\n",
    "        tokens_list.append(' '.join(lemmatized_tokens))\n",
    "    return tokens_list"
   ]
  },
  {
   "cell_type": "code",
   "execution_count": 6,
   "metadata": {},
   "outputs": [
    {
     "data": {
      "text/html": [
       "<div>\n",
       "<style scoped>\n",
       "    .dataframe tbody tr th:only-of-type {\n",
       "        vertical-align: middle;\n",
       "    }\n",
       "\n",
       "    .dataframe tbody tr th {\n",
       "        vertical-align: top;\n",
       "    }\n",
       "\n",
       "    .dataframe thead th {\n",
       "        text-align: right;\n",
       "    }\n",
       "</style>\n",
       "<table border=\"1\" class=\"dataframe\">\n",
       "  <thead>\n",
       "    <tr style=\"text-align: right;\">\n",
       "      <th></th>\n",
       "      <th>bad</th>\n",
       "      <th>bad day</th>\n",
       "      <th>be</th>\n",
       "      <th>be bad</th>\n",
       "      <th>be good</th>\n",
       "      <th>be ok</th>\n",
       "      <th>day</th>\n",
       "      <th>good</th>\n",
       "      <th>good day</th>\n",
       "      <th>ok</th>\n",
       "      <th>today</th>\n",
       "      <th>today be</th>\n",
       "      <th>text</th>\n",
       "    </tr>\n",
       "  </thead>\n",
       "  <tbody>\n",
       "    <tr>\n",
       "      <th>0</th>\n",
       "      <td>0.000000</td>\n",
       "      <td>0.000000</td>\n",
       "      <td>0.274634</td>\n",
       "      <td>0.000000</td>\n",
       "      <td>0.464997</td>\n",
       "      <td>0.000000</td>\n",
       "      <td>0.353642</td>\n",
       "      <td>0.464997</td>\n",
       "      <td>0.464997</td>\n",
       "      <td>0.000000</td>\n",
       "      <td>0.274634</td>\n",
       "      <td>0.274634</td>\n",
       "      <td>Today is a good day</td>\n",
       "    </tr>\n",
       "    <tr>\n",
       "      <th>1</th>\n",
       "      <td>0.464997</td>\n",
       "      <td>0.464997</td>\n",
       "      <td>0.274634</td>\n",
       "      <td>0.464997</td>\n",
       "      <td>0.000000</td>\n",
       "      <td>0.000000</td>\n",
       "      <td>0.353642</td>\n",
       "      <td>0.000000</td>\n",
       "      <td>0.000000</td>\n",
       "      <td>0.000000</td>\n",
       "      <td>0.274634</td>\n",
       "      <td>0.274634</td>\n",
       "      <td>Today is a bad day</td>\n",
       "    </tr>\n",
       "    <tr>\n",
       "      <th>2</th>\n",
       "      <td>0.000000</td>\n",
       "      <td>0.000000</td>\n",
       "      <td>0.338381</td>\n",
       "      <td>0.000000</td>\n",
       "      <td>0.000000</td>\n",
       "      <td>0.572929</td>\n",
       "      <td>0.000000</td>\n",
       "      <td>0.000000</td>\n",
       "      <td>0.000000</td>\n",
       "      <td>0.572929</td>\n",
       "      <td>0.338381</td>\n",
       "      <td>0.338381</td>\n",
       "      <td>Today is ok</td>\n",
       "    </tr>\n",
       "  </tbody>\n",
       "</table>\n",
       "</div>"
      ],
      "text/plain": [
       "        bad   bad day        be    be bad   be good     be ok       day  \\\n",
       "0  0.000000  0.000000  0.274634  0.000000  0.464997  0.000000  0.353642   \n",
       "1  0.464997  0.464997  0.274634  0.464997  0.000000  0.000000  0.353642   \n",
       "2  0.000000  0.000000  0.338381  0.000000  0.000000  0.572929  0.000000   \n",
       "\n",
       "       good  good day        ok     today  today be                 text  \n",
       "0  0.464997  0.464997  0.000000  0.274634  0.274634  Today is a good day  \n",
       "1  0.000000  0.000000  0.000000  0.274634  0.274634   Today is a bad day  \n",
       "2  0.000000  0.000000  0.572929  0.338381  0.338381          Today is ok  "
      ]
     },
     "execution_count": 6,
     "metadata": {},
     "output_type": "execute_result"
    }
   ],
   "source": [
    "demo_text=['Today is a good day', 'Today is a bad day', 'Today is ok']\n",
    "estimators=[('cleaner', FunctionTransformer(data_cleaning)), \n",
    "            ('vectorizer', TfidfVectorizer(ngram_range=(1, 2)))]\n",
    "demo_pipeline=Pipeline(estimators)\n",
    "demo_ary=demo_pipeline.fit_transform(demo_text).toarray()\n",
    "demo_vocab=[vocab for vocab, idx in sorted(demo_pipeline['vectorizer'].vocabulary_.items(), key=lambda item: item[1])]\n",
    "# demo_pipeline.fit(demo_text)\n",
    "# demo_pipeline.transform(demo_text)\n",
    "demo_df=pd.DataFrame(demo_ary, columns=demo_vocab)\n",
    "demo_df['text']=demo_text\n",
    "demo_df"
   ]
  },
  {
   "cell_type": "code",
   "execution_count": 44,
   "metadata": {},
   "outputs": [],
   "source": [
    "X=df['text']\n",
    "y=df['label']\n",
    "X_train, X_test, y_train, y_test=train_test_split(X, y, train_size=.9)"
   ]
  },
  {
   "cell_type": "code",
   "execution_count": 8,
   "metadata": {},
   "outputs": [],
   "source": [
    "\n",
    "# train_set=int(len(X)*0.9)\n",
    "# X_train=X[:train_set]\n",
    "# y_train=y[:train_set]\n",
    "# X_test=X[train_set:]\n",
    "# y_test=y[train_set:]"
   ]
  },
  {
   "cell_type": "code",
   "execution_count": 45,
   "metadata": {},
   "outputs": [],
   "source": [
    "start_time=time.time()\n",
    "estimators=[('cleaner', FunctionTransformer(data_cleaning)), \n",
    "            ('vectorizer', TfidfVectorizer(max_features=100000, ngram_range=(1, 2)))]\n",
    "preprocessing_pipeline=Pipeline(estimators)\n",
    "X_train_transformed=preprocessing_pipeline.fit_transform(X_train)#[0:5])\n",
    "# preprocessing_pipeline.transform([':)', 'Today is a bad day'])\n",
    "# preprocessing_pipeline.transform(df['text'])#[0:5])"
   ]
  },
  {
   "cell_type": "code",
   "execution_count": 46,
   "metadata": {
    "scrolled": true
   },
   "outputs": [
    {
     "data": {
      "text/plain": [
       "100000"
      ]
     },
     "execution_count": 46,
     "metadata": {},
     "output_type": "execute_result"
    }
   ],
   "source": [
    "len(preprocessing_pipeline['vectorizer'].vocabulary_)"
   ]
  },
  {
   "cell_type": "code",
   "execution_count": 47,
   "metadata": {},
   "outputs": [],
   "source": [
    "# If the 𝑃(𝑋|𝐶)'s are binary variables the model is a binomial Naive Bayes,\n",
    "# and multinomial Naive Bayes if multinomial distribution and Gaussian if \n",
    "# continuous Gaussian distribution(parameters are only mean and variance)."
   ]
  },
  {
   "cell_type": "code",
   "execution_count": 48,
   "metadata": {},
   "outputs": [
    {
     "name": "stdout",
     "output_type": "stream",
     "text": [
      "Time: 0.15418505668640137\n",
      "Train Score: 0.8276666666666667\n",
      "Test Score: 0.7886\n"
     ]
    }
   ],
   "source": [
    "nb=MultinomialNB()\n",
    "nb.fit(X_train_transformed, y_train)\n",
    "print(f'Time: {time.time()-start_time}')\n",
    "X_test_transformed=preprocessing_pipeline.transform(X_test)\n",
    "print(f'Train Score: {nb.score(X_train_transformed, y_train)}')\n",
    "print(f'Test Score: {nb.score(X_test_transformed, y_test)}')"
   ]
  },
  {
   "cell_type": "code",
   "execution_count": null,
   "metadata": {},
   "outputs": [],
   "source": []
  },
  {
   "cell_type": "code",
   "execution_count": 57,
   "metadata": {},
   "outputs": [],
   "source": [
    "start_time=time.time()\n",
    "estimators=[('cleaner', FunctionTransformer(data_cleaning)), \n",
    "            ('vectorizer', TfidfVectorizer(max_features=150000, ngram_range=(1, 2)))]\n",
    "preprocessing_pipeline=Pipeline(estimators)\n",
    "X_train_transformed=preprocessing_pipeline.fit_transform(X_train)#[0:5])\n",
    "# preprocessing_pipeline.transform([':)', 'Today is a bad day'])\n",
    "# preprocessing_pipeline.transform(df['text'])#[0:5])"
   ]
  },
  {
   "cell_type": "code",
   "execution_count": 58,
   "metadata": {},
   "outputs": [
    {
     "name": "stdout",
     "output_type": "stream",
     "text": [
      "Time: 356.5071060657501\n",
      "Train Score: 0.8380861111111111\n",
      "Test Score: 0.790325\n"
     ]
    }
   ],
   "source": [
    "nb=MultinomialNB()\n",
    "nb.fit(X_train_transformed, y_train)\n",
    "print(f'Time: {time.time()-start_time}')\n",
    "X_test_transformed=preprocessing_pipeline.transform(X_test)\n",
    "print(f'Train Score: {nb.score(X_train_transformed, y_train)}')\n",
    "print(f'Test Score: {nb.score(X_test_transformed, y_test)}')"
   ]
  },
  {
   "cell_type": "code",
   "execution_count": null,
   "metadata": {},
   "outputs": [],
   "source": []
  },
  {
   "cell_type": "code",
   "execution_count": 53,
   "metadata": {},
   "outputs": [],
   "source": [
    "start_time=time.time()\n",
    "estimators=[('cleaner', FunctionTransformer(data_cleaning)), \n",
    "            ('vectorizer', TfidfVectorizer(max_features=300000, ngram_range=(1, 2)))]\n",
    "preprocessing_pipeline=Pipeline(estimators)\n",
    "X_train_transformed=preprocessing_pipeline.fit_transform(X_train)#[0:5])\n",
    "# preprocessing_pipeline.transform([':)', 'Today is a bad day'])\n",
    "# preprocessing_pipeline.transform(df['text'])#[0:5])"
   ]
  },
  {
   "cell_type": "code",
   "execution_count": 54,
   "metadata": {},
   "outputs": [
    {
     "name": "stdout",
     "output_type": "stream",
     "text": [
      "Time: 399.9984641075134\n",
      "Train Score: 0.8587277777777778\n",
      "Test Score: 0.7915\n"
     ]
    }
   ],
   "source": [
    "nb=MultinomialNB()\n",
    "nb.fit(X_train_transformed, y_train)\n",
    "print(f'Time: {time.time()-start_time}')\n",
    "X_test_transformed=preprocessing_pipeline.transform(X_test)\n",
    "print(f'Train Score: {nb.score(X_train_transformed, y_train)}')\n",
    "print(f'Test Score: {nb.score(X_test_transformed, y_test)}')"
   ]
  },
  {
   "cell_type": "code",
   "execution_count": null,
   "metadata": {},
   "outputs": [],
   "source": []
  },
  {
   "cell_type": "code",
   "execution_count": null,
   "metadata": {},
   "outputs": [],
   "source": []
  },
  {
   "cell_type": "code",
   "execution_count": null,
   "metadata": {},
   "outputs": [],
   "source": []
  }
 ],
 "metadata": {
  "kernelspec": {
   "display_name": "Python 3",
   "language": "python",
   "name": "python3"
  },
  "language_info": {
   "codemirror_mode": {
    "name": "ipython",
    "version": 3
   },
   "file_extension": ".py",
   "mimetype": "text/x-python",
   "name": "python",
   "nbconvert_exporter": "python",
   "pygments_lexer": "ipython3",
   "version": "3.7.1"
  }
 },
 "nbformat": 4,
 "nbformat_minor": 2
}
