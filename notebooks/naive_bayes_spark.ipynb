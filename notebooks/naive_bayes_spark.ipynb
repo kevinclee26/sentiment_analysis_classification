{
  "nbformat": 4,
  "nbformat_minor": 0,
  "metadata": {
    "colab": {
      "name": "naive_bayes_spark.ipynb",
      "provenance": []
    },
    "kernelspec": {
      "name": "python3",
      "display_name": "Python 3"
    },
    "language_info": {
      "name": "python"
    }
  },
  "cells": [
    {
      "cell_type": "code",
      "metadata": {
        "colab": {
          "base_uri": "https://localhost:8080/"
        },
        "id": "PzIx42iwx3on",
        "outputId": "50a91202-510b-480f-a169-2b751b180b50"
      },
      "source": [
        "import os\n",
        "# Find the latest version of spark 3.0  from http://www-us.apache.org/dist/spark/ and enter as the spark version\n",
        "# For example:\n",
        "spark_version = 'spark-3.0.2'\n",
        "# spark_version = 'spark-3.<enter version>'\n",
        "os.environ['SPARK_VERSION']=spark_version\n",
        "\n",
        "# Install Spark and Java\n",
        "!apt-get update\n",
        "!apt-get install openjdk-11-jdk-headless -qq > /dev/null\n",
        "!wget -q http://www-us.apache.org/dist/spark/$SPARK_VERSION/$SPARK_VERSION-bin-hadoop2.7.tgz\n",
        "!tar xf $SPARK_VERSION-bin-hadoop2.7.tgz\n",
        "!pip install -q findspark\n",
        "\n",
        "# Set Environment Variables\n",
        "os.environ[\"JAVA_HOME\"]=\"/usr/lib/jvm/java-11-openjdk-amd64\"\n",
        "os.environ[\"SPARK_HOME\"]=f\"/content/{spark_version}-bin-hadoop2.7\"\n",
        "\n",
        "# Start a SparkSession\n",
        "import findspark\n",
        "findspark.init()"
      ],
      "execution_count": 3,
      "outputs": [
        {
          "output_type": "stream",
          "text": [
            "\r0% [Working]\r            \rHit:1 http://archive.ubuntu.com/ubuntu bionic InRelease\n",
            "\r            \rHit:2 http://ppa.launchpad.net/c2d4u.team/c2d4u4.0+/ubuntu bionic InRelease\n",
            "\r0% [Waiting for headers] [Connecting to security.ubuntu.com (91.189.91.39)] [Co\r                                                                               \rGet:3 http://archive.ubuntu.com/ubuntu bionic-updates InRelease [88.7 kB]\n",
            "\r0% [1 InRelease gpgv 242 kB] [3 InRelease 14.2 kB/88.7 kB 16%] [Connecting to s\r                                                                               \rHit:4 http://ppa.launchpad.net/cran/libgit2/ubuntu bionic InRelease\n",
            "\r0% [1 InRelease gpgv 242 kB] [3 InRelease 36.9 kB/88.7 kB 42%] [Connecting to s\r0% [1 InRelease gpgv 242 kB] [Connecting to security.ubuntu.com (91.189.91.39)]\r                                                                               \rHit:5 https://cloud.r-project.org/bin/linux/ubuntu bionic-cran40/ InRelease\n",
            "\r                                                                               \rHit:6 http://ppa.launchpad.net/deadsnakes/ppa/ubuntu bionic InRelease\n",
            "\r0% [1 InRelease gpgv 242 kB] [Waiting for headers] [Connecting to security.ubun\r                                                                               \rGet:7 http://archive.ubuntu.com/ubuntu bionic-backports InRelease [74.6 kB]\n",
            "Hit:8 http://ppa.launchpad.net/graphics-drivers/ppa/ubuntu bionic InRelease\n",
            "Ign:9 https://developer.download.nvidia.com/compute/cuda/repos/ubuntu1804/x86_64  InRelease\n",
            "Ign:10 https://developer.download.nvidia.com/compute/machine-learning/repos/ubuntu1804/x86_64  InRelease\n",
            "Hit:11 https://developer.download.nvidia.com/compute/cuda/repos/ubuntu1804/x86_64  Release\n",
            "Hit:12 https://developer.download.nvidia.com/compute/machine-learning/repos/ubuntu1804/x86_64  Release\n",
            "Get:13 http://security.ubuntu.com/ubuntu bionic-security InRelease [88.7 kB]\n",
            "Get:14 http://archive.ubuntu.com/ubuntu bionic-updates/main amd64 Packages [2,584 kB]\n",
            "Get:15 http://archive.ubuntu.com/ubuntu bionic-updates/universe amd64 Packages [2,184 kB]\n",
            "Fetched 5,019 kB in 2s (3,055 kB/s)\n",
            "Reading package lists... Done\n"
          ],
          "name": "stdout"
        }
      ]
    },
    {
      "cell_type": "code",
      "metadata": {
        "id": "fefEbrAsx5W1"
      },
      "source": [
        "# Start Spark session\n",
        "from pyspark.sql import SparkSession\n",
        "spark=SparkSession.builder.appName(\"NaiveBayes\").getOrCreate()"
      ],
      "execution_count": 4,
      "outputs": []
    },
    {
      "cell_type": "code",
      "metadata": {
        "id": "wcEk3w6zZsSg"
      },
      "source": [
        "from pyspark.sql.types import StructField, StringType, StructType\n",
        "columns=['label', 'text']\n",
        "schema=[StructField(column_header, StringType(), True) for column_header in columns]\n",
        "final=StructType(fields=schema)"
      ],
      "execution_count": 6,
      "outputs": []
    },
    {
      "cell_type": "code",
      "metadata": {
        "id": "y6LEIhDrx-aT"
      },
      "source": [
        "# Read in data from S3 Buckets\n",
        "from pyspark import SparkFiles\n",
        "# url =\"https://s3.amazonaws.com/dataviz-curriculum/day_2/yelp_reviews.csv\"\n",
        "# url='/content/training-1600000-processed-noemoticon.csv'\n",
        "url='/content/sample.csv'\n",
        "\n",
        "# url='/content/Airlines.csv'\n",
        "spark.sparkContext.addFile(url)\n",
        "# columns=['label', 'time', 'date', 'query', 'username', 'text']\n",
        "df=spark.read.csv(SparkFiles.get(\"sample.csv\"), sep=\",\", schema=final)#,) header=True)\n",
        "# df = spark.read.csv(SparkFiles.get(\"Airlines.csv\"), sep=\",\", header=True)#,) header=True)\n",
        "\n",
        "# Show DataFrame\n",
        "# df.show()"
      ],
      "execution_count": 7,
      "outputs": []
    },
    {
      "cell_type": "code",
      "metadata": {
        "id": "BewgUdDqHw-I"
      },
      "source": [
        "# df.limit(5).toPandas().to_csv('sample.csv')"
      ],
      "execution_count": null,
      "outputs": []
    },
    {
      "cell_type": "code",
      "metadata": {
        "id": "Yb3fXTzIFNJg"
      },
      "source": [
        "# Create all the features to the data set\n",
        "from pyspark.ml.feature import Tokenizer, StopWordsRemover, HashingTF, IDF, StringIndexer, VectorAssembler\n",
        "\n",
        "pos_neg_to_num=StringIndexer(inputCol='target', outputCol='label')\n",
        "tokenizer=Tokenizer(inputCol='text', outputCol='words')\n",
        "stop=StopWordsRemover(inputCol='words', outputCol='clean')\n",
        "hashingTF=HashingTF(inputCol='clean', outputCol='hash')\n",
        "idf=IDF(inputCol='hash', outputCol='idf')"
      ],
      "execution_count": 8,
      "outputs": []
    },
    {
      "cell_type": "code",
      "metadata": {
        "id": "NtXrSRIrI3yr"
      },
      "source": [
        "\n",
        "from pyspark.ml.feature import VectorAssembler\n",
        "# from pyspark.ml.linalg import Vector\n",
        "\n",
        "# Create feature vectors\n",
        "# clean_up = VectorAssembler(inputCols=['idf_token', 'length'], outputCol='features')\n",
        "clean_up=VectorAssembler(inputCols=['idf'], outputCol='features')"
      ],
      "execution_count": 14,
      "outputs": []
    },
    {
      "cell_type": "code",
      "metadata": {
        "id": "-eEdeMx0FQL3"
      },
      "source": [
        "# Create a and run a data processing Pipeline\n",
        "from pyspark.ml import Pipeline\n",
        "\n",
        "ml_pipeline=Pipeline(stages=[pos_neg_to_num, tokenizer, stop, hashingTF, idf, clean_up])"
      ],
      "execution_count": 15,
      "outputs": []
    },
    {
      "cell_type": "code",
      "metadata": {
        "id": "pn2zTE_-FVYI"
      },
      "source": [
        "# Fit and transform the pipeline\n",
        "\n",
        "df=df.withColumnRenamed('label', 'target')\n",
        "processer=ml_pipeline.fit(df)\n",
        "final_df=processer.transform(df)"
      ],
      "execution_count": 16,
      "outputs": []
    },
    {
      "cell_type": "code",
      "metadata": {
        "id": "VZVSFPScaZhB",
        "colab": {
          "base_uri": "https://localhost:8080/"
        },
        "outputId": "c53b54db-de50-4e9e-bbbc-d8bdb5a9b2a1"
      },
      "source": [
        "final_df.show()"
      ],
      "execution_count": 17,
      "outputs": [
        {
          "output_type": "stream",
          "text": [
            "+------+--------------------+-----+--------------------+--------------------+--------------------+--------------------+--------------------+\n",
            "|target|                text|label|               words|               clean|                hash|                 idf|            features|\n",
            "+------+--------------------+-----+--------------------+--------------------+--------------------+--------------------+--------------------+\n",
            "| label|                text|  2.0|              [text]|              [text]|(262144,[143985],...|(262144,[143985],...|(262144,[143985],...|\n",
            "|     0|@vivmondo Haha, i...|  0.0|[@vivmondo, haha,...|[@vivmondo, haha,...|(262144,[8804,210...|(262144,[8804,210...|(262144,[8804,210...|\n",
            "|     0|again stuck with ...|  0.0|[again, stuck, wi...|[stuck, javascrip...|(262144,[12650,27...|(262144,[12650,27...|(262144,[12650,27...|\n",
            "|     0|Exhausted...terri...|  0.0|[exhausted...terr...|[exhausted...terr...|(262144,[196946,2...|(262144,[196946,2...|(262144,[196946,2...|\n",
            "|     0|@dstarr I want my...|  0.0|[@dstarr, i, want...|[@dstarr, want, b...|(262144,[21641,13...|(262144,[21641,13...|(262144,[21641,13...|\n",
            "|     0|Hayley is awake &...|  0.0|[hayley, is, awak...|[hayley, awake, &...|(262144,[8538,291...|(262144,[8538,291...|(262144,[8538,291...|\n",
            "|     0|@souljaboytellem ...|  0.0|[@souljaboytellem...|[@souljaboytellem...|(262144,[97420,10...|(262144,[97420,10...|(262144,[97420,10...|\n",
            "|     0|Going to mcdonald...|  0.0|[going, to, mcdon...|[going, mcdonalds...|(262144,[12760,69...|(262144,[12760,69...|(262144,[12760,69...|\n",
            "|     0|(@MissAmande) I n...|  0.0|[(@missamande), i...|[(@missamande), n...|(262144,[64238,65...|(262144,[64238,65...|(262144,[64238,65...|\n",
            "|     0|cant find the she...|  0.0|[cant, find, the,...|[cant, find, shee...|(262144,[91878,13...|(262144,[91878,13...|(262144,[91878,13...|\n",
            "|     0|@lindseylossing D...|  0.0|[@lindseylossing,...|[@lindseylossing,...|(262144,[111020,1...|(262144,[111020,1...|(262144,[111020,1...|\n",
            "|     0|@Cutieface44 Sorr...|  0.0|[@cutieface44, so...|[@cutieface44, so...|(262144,[16004,26...|(262144,[16004,26...|(262144,[16004,26...|\n",
            "|     0|spent too long sh...|  0.0|[spent, too, long...|[spent, long, sho...|(262144,[48234,16...|(262144,[48234,16...|(262144,[48234,16...|\n",
            "|     0|@bigmama1039 wish...|  0.0|[@bigmama1039, wi...|[@bigmama1039, wi...|(262144,[3350,167...|(262144,[3350,167...|(262144,[3350,167...|\n",
            "|     0|@skyladawn Exactl...|  0.0|[@skyladawn, exac...|[@skyladawn, exac...|(262144,[84084,10...|(262144,[84084,10...|(262144,[84084,10...|\n",
            "|     0|http://twitpic.co...|  0.0|[http://twitpic.c...|[http://twitpic.c...|(262144,[18184,38...|(262144,[18184,38...|(262144,[18184,38...|\n",
            "|     0|Who's there to sa...|  0.0|[who's, there, to...|[save, hero..., h...|(262144,[73815,13...|(262144,[73815,13...|(262144,[73815,13...|\n",
            "|     0|@Dsalangsang Oh n...|  0.0|[@dsalangsang, oh...|[@dsalangsang, oh...|(262144,[3504,612...|(262144,[3504,612...|(262144,[3504,612...|\n",
            "|     0|had a good night ...|  0.0|[had, a, good, ni...|[good, night, wit...|(262144,[17893,20...|(262144,[17893,20...|(262144,[17893,20...|\n",
            "|     0|report coming on ...|  0.0|[report, coming, ...|[report, coming, ...|(262144,[12409,18...|(262144,[12409,18...|(262144,[12409,18...|\n",
            "+------+--------------------+-----+--------------------+--------------------+--------------------+--------------------+--------------------+\n",
            "only showing top 20 rows\n",
            "\n"
          ],
          "name": "stdout"
        }
      ]
    },
    {
      "cell_type": "code",
      "metadata": {
        "id": "d7HmRUPszGO1"
      },
      "source": [
        "from pyspark.ml.classification import NaiveBayes\n",
        "# Break data down into a training set and a testing set\n",
        "training, testing = final_df.randomSplit([0.7, 0.3])\n",
        "\n",
        "# Create a Naive Bayes model and fit training data\n",
        "nb = NaiveBayes()\n",
        "predictor = nb.fit(training)"
      ],
      "execution_count": 18,
      "outputs": []
    },
    {
      "cell_type": "code",
      "metadata": {
        "id": "HoYaH8HIzHaQ",
        "colab": {
          "base_uri": "https://localhost:8080/"
        },
        "outputId": "ec26615b-76b9-4e98-b95a-5ec8db3f60e1"
      },
      "source": [
        "# Tranform the model with the testing data\n",
        "test_results = predictor.transform(testing)\n",
        "test_results.show(5)"
      ],
      "execution_count": 19,
      "outputs": [
        {
          "output_type": "stream",
          "text": [
            "+------+--------------------+-----+--------------------+--------------------+--------------------+--------------------+--------------------+--------------------+--------------------+----------+\n",
            "|target|                text|label|               words|               clean|                hash|                 idf|            features|       rawPrediction|         probability|prediction|\n",
            "+------+--------------------+-----+--------------------+--------------------+--------------------+--------------------+--------------------+--------------------+--------------------+----------+\n",
            "|     0|     &gt;( &gt;( ...|  0.0|[, , , , , &gt;(,...|[, , , , , &gt;(,...|(262144,[32055,64...|(262144,[32055,64...|(262144,[32055,64...|[-783.12830642394...|[1.0,1.0161174205...|       0.0|\n",
            "|     0|     jb isnt show...|  0.0|[, , , , , jb, is...|[, , , , , jb, is...|(262144,[2284,283...|(262144,[2284,283...|(262144,[2284,283...|[-370.31788464988...|[0.99978904587422...|       0.0|\n",
            "|     0|    Nobody likes ...|  0.0|[, , , , nobody, ...|[, , , , nobody, ...|(262144,[14659,21...|(262144,[14659,21...|(262144,[14659,21...|[-767.45224953644...|[0.99999999999999...|       0.0|\n",
            "|     0|    blue does not...|  0.0|[, , , , blue, do...|[, , , , blue, work]|(262144,[34343,10...|(262144,[34343,10...|(262144,[34343,10...|[-104.88334740513...|[0.87025097752750...|       0.0|\n",
            "|     0|      CRY CRY CRY   |  0.0|[, , , cry, cry, ...|[, , , cry, cry, ...|(262144,[249180,2...|(262144,[249180,2...|(262144,[249180,2...|[-167.00144045833...|[0.99999999999999...|       0.0|\n",
            "+------+--------------------+-----+--------------------+--------------------+--------------------+--------------------+--------------------+--------------------+--------------------+----------+\n",
            "only showing top 5 rows\n",
            "\n"
          ],
          "name": "stdout"
        }
      ]
    },
    {
      "cell_type": "code",
      "metadata": {
        "id": "rCA9swLGzLGj",
        "colab": {
          "base_uri": "https://localhost:8080/"
        },
        "outputId": "813ba3af-6c8c-4c92-d392-2ddf0fd01365"
      },
      "source": [
        "# Use the Class Evaluator for a cleaner description\n",
        "from pyspark.ml.evaluation import MulticlassClassificationEvaluator\n",
        "\n",
        "acc_eval = MulticlassClassificationEvaluator()\n",
        "acc = acc_eval.evaluate(test_results)\n",
        "print(\"Accuracy of model at predicting testing sentiment was: %f\" % acc)"
      ],
      "execution_count": 20,
      "outputs": [
        {
          "output_type": "stream",
          "text": [
            "Accuracy of model at predicting sentiment was: 0.676430\n"
          ],
          "name": "stdout"
        }
      ]
    },
    {
      "cell_type": "code",
      "metadata": {
        "colab": {
          "base_uri": "https://localhost:8080/"
        },
        "id": "-j6DDg42eDnd",
        "outputId": "9e3f0be8-bc8a-49e0-9e29-95bf5822ee0a"
      },
      "source": [
        "# Tranform the model with the testing data\n",
        "train_results = predictor.transform(training)\n",
        "acc_eval = MulticlassClassificationEvaluator()\n",
        "acc = acc_eval.evaluate(train_results)\n",
        "print(\"Accuracy of model at predicting training sentiment was: %f\" % acc)"
      ],
      "execution_count": 22,
      "outputs": [
        {
          "output_type": "stream",
          "text": [
            "+------+--------------------+-----+--------------------+--------------------+--------------------+--------------------+--------------------+--------------------+--------------------+----------+\n",
            "|target|                text|label|               words|               clean|                hash|                 idf|            features|       rawPrediction|         probability|prediction|\n",
            "+------+--------------------+-----+--------------------+--------------------+--------------------+--------------------+--------------------+--------------------+--------------------+----------+\n",
            "|     0|                 ...|  0.0|[, , , , , , , , ...|[, , , , , , , , ...|(262144,[76764,23...|(262144,[76764,23...|(262144,[76764,23...|[-336.83801853752...|[0.99999999688240...|       0.0|\n",
            "|     0|                 ...|  0.0|[, , , , , , , , ...|[, , , , , , , , ...|(262144,[23825,74...|(262144,[23825,74...|(262144,[23825,74...|[-393.67163090296...|[1.0,1.8043098800...|       0.0|\n",
            "|     0|           FUCK YOU!|  0.0|[, , , , , , , , ...|[, , , , , , , , ...|(262144,[164046,2...|(262144,[164046,2...|(262144,[164046,2...|[-145.38646535962...|[0.88957679137533...|       0.0|\n",
            "|     0|         i think ...|  0.0|[, , , , , , , , ...|[, , , , , , , , ...|(262144,[95227,15...|(262144,[95227,15...|(262144,[95227,15...|[-521.45706813891...|[0.99999999995093...|       0.0|\n",
            "|     0|         or i jus...|  0.0|[, , , , , , , , ...|[, , , , , , , , ...|(262144,[117975,1...|(262144,[117975,1...|(262144,[117975,1...|[-202.14549339815...|[5.15474841630488...|       1.0|\n",
            "+------+--------------------+-----+--------------------+--------------------+--------------------+--------------------+--------------------+--------------------+--------------------+----------+\n",
            "only showing top 5 rows\n",
            "\n",
            "Accuracy of model at predicting training sentiment was: 0.880481\n"
          ],
          "name": "stdout"
        }
      ]
    },
    {
      "cell_type": "code",
      "metadata": {
        "id": "cPoDx_wKhWQg"
      },
      "source": [
        ""
      ],
      "execution_count": null,
      "outputs": []
    },
    {
      "cell_type": "code",
      "metadata": {
        "id": "-nWpjd1EhVDI"
      },
      "source": [
        ""
      ],
      "execution_count": 22,
      "outputs": []
    },
    {
      "cell_type": "code",
      "metadata": {
        "id": "aFPlr0YhhUSA"
      },
      "source": [
        ""
      ],
      "execution_count": null,
      "outputs": []
    },
    {
      "cell_type": "code",
      "metadata": {
        "id": "hAfEVcu0QhD2"
      },
      "source": [
        "test_results.select(['target', 'text', 'label', 'prediction']).coalesce(1).write.csv(\"results.csv\")"
      ],
      "execution_count": null,
      "outputs": []
    },
    {
      "cell_type": "code",
      "metadata": {
        "id": "jC7x5HNmhnt9"
      },
      "source": [
        ""
      ],
      "execution_count": null,
      "outputs": []
    }
  ]
}