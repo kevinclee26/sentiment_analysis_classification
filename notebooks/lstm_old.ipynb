{
 "cells": [
  {
   "cell_type": "code",
   "execution_count": 1,
   "metadata": {},
   "outputs": [],
   "source": [
    "import pandas as pd"
   ]
  },
  {
   "cell_type": "code",
   "execution_count": 10,
   "metadata": {},
   "outputs": [
    {
     "data": {
      "text/html": [
       "<div>\n",
       "<style scoped>\n",
       "    .dataframe tbody tr th:only-of-type {\n",
       "        vertical-align: middle;\n",
       "    }\n",
       "\n",
       "    .dataframe tbody tr th {\n",
       "        vertical-align: top;\n",
       "    }\n",
       "\n",
       "    .dataframe thead th {\n",
       "        text-align: right;\n",
       "    }\n",
       "</style>\n",
       "<table border=\"1\" class=\"dataframe\">\n",
       "  <thead>\n",
       "    <tr style=\"text-align: right;\">\n",
       "      <th></th>\n",
       "      <th>label</th>\n",
       "      <th>time</th>\n",
       "      <th>date</th>\n",
       "      <th>query</th>\n",
       "      <th>username</th>\n",
       "      <th>text</th>\n",
       "    </tr>\n",
       "  </thead>\n",
       "  <tbody>\n",
       "    <tr>\n",
       "      <th>0</th>\n",
       "      <td>0</td>\n",
       "      <td>1467810369</td>\n",
       "      <td>Mon Apr 06 22:19:45 PDT 2009</td>\n",
       "      <td>NO_QUERY</td>\n",
       "      <td>_TheSpecialOne_</td>\n",
       "      <td>@switchfoot http://twitpic.com/2y1zl - Awww, t...</td>\n",
       "    </tr>\n",
       "    <tr>\n",
       "      <th>1</th>\n",
       "      <td>0</td>\n",
       "      <td>1467810672</td>\n",
       "      <td>Mon Apr 06 22:19:49 PDT 2009</td>\n",
       "      <td>NO_QUERY</td>\n",
       "      <td>scotthamilton</td>\n",
       "      <td>is upset that he can't update his Facebook by ...</td>\n",
       "    </tr>\n",
       "    <tr>\n",
       "      <th>2</th>\n",
       "      <td>0</td>\n",
       "      <td>1467810917</td>\n",
       "      <td>Mon Apr 06 22:19:53 PDT 2009</td>\n",
       "      <td>NO_QUERY</td>\n",
       "      <td>mattycus</td>\n",
       "      <td>@Kenichan I dived many times for the ball. Man...</td>\n",
       "    </tr>\n",
       "    <tr>\n",
       "      <th>3</th>\n",
       "      <td>0</td>\n",
       "      <td>1467811184</td>\n",
       "      <td>Mon Apr 06 22:19:57 PDT 2009</td>\n",
       "      <td>NO_QUERY</td>\n",
       "      <td>ElleCTF</td>\n",
       "      <td>my whole body feels itchy and like its on fire</td>\n",
       "    </tr>\n",
       "    <tr>\n",
       "      <th>4</th>\n",
       "      <td>0</td>\n",
       "      <td>1467811193</td>\n",
       "      <td>Mon Apr 06 22:19:57 PDT 2009</td>\n",
       "      <td>NO_QUERY</td>\n",
       "      <td>Karoli</td>\n",
       "      <td>@nationwideclass no, it's not behaving at all....</td>\n",
       "    </tr>\n",
       "  </tbody>\n",
       "</table>\n",
       "</div>"
      ],
      "text/plain": [
       "   label        time                          date     query         username  \\\n",
       "0      0  1467810369  Mon Apr 06 22:19:45 PDT 2009  NO_QUERY  _TheSpecialOne_   \n",
       "1      0  1467810672  Mon Apr 06 22:19:49 PDT 2009  NO_QUERY    scotthamilton   \n",
       "2      0  1467810917  Mon Apr 06 22:19:53 PDT 2009  NO_QUERY         mattycus   \n",
       "3      0  1467811184  Mon Apr 06 22:19:57 PDT 2009  NO_QUERY          ElleCTF   \n",
       "4      0  1467811193  Mon Apr 06 22:19:57 PDT 2009  NO_QUERY           Karoli   \n",
       "\n",
       "                                                text  \n",
       "0  @switchfoot http://twitpic.com/2y1zl - Awww, t...  \n",
       "1  is upset that he can't update his Facebook by ...  \n",
       "2  @Kenichan I dived many times for the ball. Man...  \n",
       "3    my whole body feels itchy and like its on fire   \n",
       "4  @nationwideclass no, it's not behaving at all....  "
      ]
     },
     "execution_count": 10,
     "metadata": {},
     "output_type": "execute_result"
    }
   ],
   "source": [
    "columns=[\"label\", \"time\", \"date\", \"query\", \"username\", \"text\"]\n",
    "df=pd.read_csv('data/training-1600000-processed-noemoticon.csv', names=columns)\n",
    "df.head()"
   ]
  },
  {
   "cell_type": "code",
   "execution_count": 11,
   "metadata": {},
   "outputs": [
    {
     "data": {
      "text/plain": [
       "0    800000\n",
       "1    800000\n",
       "Name: label, dtype: int64"
      ]
     },
     "execution_count": 11,
     "metadata": {},
     "output_type": "execute_result"
    }
   ],
   "source": [
    "df=df[['label', 'text']]\n",
    "df['label']=df['label'].replace({4: 1})\n",
    "df['label'].value_counts()"
   ]
  },
  {
   "cell_type": "code",
   "execution_count": 12,
   "metadata": {},
   "outputs": [
    {
     "data": {
      "text/plain": [
       "0    400000\n",
       "1    400000\n",
       "Name: label, dtype: int64"
      ]
     },
     "execution_count": 12,
     "metadata": {},
     "output_type": "execute_result"
    }
   ],
   "source": [
    "df=pd.concat([df[df['label']==0].sample(frac=.5), df[df['label']==1].sample(frac=.5)])\n",
    "# df.to_csv('data/sample.csv', index=False)\n",
    "df['label'].value_counts()"
   ]
  },
  {
   "cell_type": "code",
   "execution_count": 13,
   "metadata": {},
   "outputs": [
    {
     "data": {
      "text/plain": [
       "([\"i'm\",\n",
       "  'not',\n",
       "  'pleased',\n",
       "  'about',\n",
       "  'who',\n",
       "  'won',\n",
       "  'the',\n",
       "  'apprentice',\n",
       "  \"don't\",\n",
       "  'like',\n",
       "  'yasmina',\n",
       "  '!'],\n",
       " 0)"
      ]
     },
     "execution_count": 13,
     "metadata": {},
     "output_type": "execute_result"
    }
   ],
   "source": [
    "from nltk.tokenize import TweetTokenizer\n",
    "tokenizer=TweetTokenizer(reduce_len=True)\n",
    "data=[]\n",
    "for text, label in zip(df['text'].values, df['label'].values): \n",
    "    data.append((tokenizer.tokenize(text.lower()), label))\n",
    "data[0]"
   ]
  },
  {
   "cell_type": "code",
   "execution_count": 14,
   "metadata": {},
   "outputs": [
    {
     "data": {
      "text/plain": [
       "(array([3.46112e+05, 3.00894e+05, 1.49765e+05, 3.10900e+03, 6.60000e+01,\n",
       "        3.30000e+01, 1.30000e+01, 4.00000e+00, 3.00000e+00, 1.00000e+00]),\n",
       " array([  1. ,  12.1,  23.2,  34.3,  45.4,  56.5,  67.6,  78.7,  89.8,\n",
       "        100.9, 112. ]),\n",
       " <a list of 10 Patch objects>)"
      ]
     },
     "execution_count": 14,
     "metadata": {},
     "output_type": "execute_result"
    },
    {
     "data": {
      "image/png": "[encoded data removed]",
      "text/plain": [
       "<Figure size 432x288 with 1 Axes>"
      ]
     },
     "metadata": {
      "needs_background": "light"
     },
     "output_type": "display_data"
    }
   ],
   "source": [
    "import matplotlib.pyplot as plt\n",
    "length=[]\n",
    "for text, label in data: \n",
    "    length.append(len(text))\n",
    "plt.hist(length)"
   ]
  },
  {
   "cell_type": "code",
   "execution_count": 15,
   "metadata": {},
   "outputs": [],
   "source": [
    "from nltk.tag import pos_tag\n",
    "# pot_tags take a list of tokens\n",
    "from nltk.stem import WordNetLemmatizer\n",
    "lemmatizer=WordNetLemmatizer()"
   ]
  },
  {
   "cell_type": "code",
   "execution_count": 16,
   "metadata": {},
   "outputs": [
    {
     "data": {
      "text/plain": [
       "([\"i'm\",\n",
       "  'not',\n",
       "  'pleased',\n",
       "  'about',\n",
       "  'who',\n",
       "  'win',\n",
       "  'the',\n",
       "  'apprentice',\n",
       "  \"don't\",\n",
       "  'like',\n",
       "  'yasmina',\n",
       "  '!'],\n",
       " 0)"
      ]
     },
     "execution_count": 16,
     "metadata": {},
     "output_type": "execute_result"
    }
   ],
   "source": [
    "lemmatized_data=[]\n",
    "for text, label in data: \n",
    "    lemmatized_tokens=[]\n",
    "    for word, tag in pos_tag(text): \n",
    "        if tag.startswith('NN'): \n",
    "            pos='n'\n",
    "        elif tag.startswith('VB'): \n",
    "            pos='v'\n",
    "        else: \n",
    "            pos='a'\n",
    "        lemmatized_tokens.append(lemmatizer.lemmatize(word, pos))\n",
    "    lemmatized_data.append((lemmatized_tokens, label))\n",
    "lemmatized_data[0]"
   ]
  },
  {
   "cell_type": "code",
   "execution_count": 17,
   "metadata": {},
   "outputs": [],
   "source": [
    "from nltk.corpus import stopwords\n",
    "stopwords_en=stopwords.words('english')"
   ]
  },
  {
   "cell_type": "code",
   "execution_count": 87,
   "metadata": {},
   "outputs": [
    {
     "data": {
      "text/plain": [
       "(['@vivmondo',\n",
       "  'haha',\n",
       "  ',',\n",
       "  'feel',\n",
       "  'like',\n",
       "  'win',\n",
       "  'time',\n",
       "  '.',\n",
       "  'quarantine',\n",
       "  'huge',\n",
       "  'part',\n",
       "  'house',\n",
       "  '.',\n",
       "  'could',\n",
       "  'hear',\n",
       "  'floor',\n",
       "  '.'],\n",
       " 0)"
      ]
     },
     "execution_count": 87,
     "metadata": {},
     "output_type": "execute_result"
    }
   ],
   "source": [
    "stopped_data=[]\n",
    "for text, label in lemmatized_data: \n",
    "    stopped_tokens=[]\n",
    "    for word in text: \n",
    "        if word not in stopwords_en: \n",
    "            stopped_tokens.append(word)\n",
    "    stopped_data.append((stopped_tokens, label))\n",
    "stopped_data[0]"
   ]
  },
  {
   "cell_type": "code",
   "execution_count": 23,
   "metadata": {},
   "outputs": [
    {
     "data": {
      "text/plain": [
       "({\"i'm\": True,\n",
       "  'not': True,\n",
       "  'pleased': True,\n",
       "  'about': True,\n",
       "  'who': True,\n",
       "  'win': True,\n",
       "  'the': True,\n",
       "  'apprentice': True,\n",
       "  \"don't\": True,\n",
       "  'like': True,\n",
       "  'yasmina': True,\n",
       "  '!': True},\n",
       " 0)"
      ]
     },
     "execution_count": 23,
     "metadata": {},
     "output_type": "execute_result"
    }
   ],
   "source": [
    "dict_data=[]\n",
    "# for text, label in stopped_data: \n",
    "for text, label in lemmatized_data: \n",
    "    dict_tokens=dict([word, True] for word in text)\n",
    "    dict_data.append((dict_tokens, label))\n",
    "dict_data[0]"
   ]
  },
  {
   "cell_type": "code",
   "execution_count": null,
   "metadata": {},
   "outputs": [],
   "source": [
    "import random\n",
    "random.Random().shuffle(dict_data)\n",
    "train_set=int(len(dict_data)*0.9)\n",
    "X_train=dict_data[:train_set]\n",
    "X_test=dict_data[train_set:]"
   ]
  },
  {
   "cell_type": "code",
   "execution_count": 38,
   "metadata": {},
   "outputs": [
    {
     "name": "stdout",
     "output_type": "stream",
     "text": [
      "Train Data Accuracy: 0.8738222222222222\n",
      "Train Data Accuracy: 0.762\n",
      "Most Informative Features\n",
      "                  Farrah = True                0 : 4      =     43.5 : 1.0\n",
      "                     vip = True                4 : 0      =     36.9 : 1.0\n",
      "                     SAD = True                0 : 4      =     33.1 : 1.0\n",
      "                  sadden = True                0 : 4      =     28.2 : 1.0\n",
      "                  Damnit = True                0 : 4      =     27.0 : 1.0\n",
      "             heartbroken = True                0 : 4      =     27.0 : 1.0\n",
      "                   whyyy = True                0 : 4      =     26.4 : 1.0\n",
      "                  Bummer = True                0 : 4      =     25.7 : 1.0\n",
      "                     447 = True                0 : 4      =     25.0 : 1.0\n",
      "                    Booo = True                0 : 4      =     24.8 : 1.0\n",
      "None\n"
     ]
    }
   ],
   "source": [
    "from nltk import classify\n",
    "from nltk import NaiveBayesClassifier\n",
    "clf=NaiveBayesClassifier.train(X_train)\n",
    "print(f'Train Data Accuracy: {classify.accuracy(clf, X_train)}')\n",
    "print(f'Train Data Accuracy: {classify.accuracy(clf, X_test)}')\n",
    "print(clf.show_most_informative_features(10))"
   ]
  },
  {
   "cell_type": "code",
   "execution_count": 24,
   "metadata": {},
   "outputs": [],
   "source": [
    "# train_set=int(len(stopped_data)*0.9)\n",
    "# X_train=stopped_data[:train_set]\n",
    "# X_test=stopped_data[train_set:]\n",
    "train_set=int(len(lemmatized_data)*0.9)\n",
    "X_train=lemmatized_data[:train_set]\n",
    "X_test=lemmatized_data[train_set:]"
   ]
  },
  {
   "cell_type": "code",
   "execution_count": 25,
   "metadata": {
    "scrolled": true
   },
   "outputs": [],
   "source": [
    "from keras.preprocessing.text import Tokenizer\n",
    "from keras.preprocessing.sequence import pad_sequences\n",
    "tokenizer=Tokenizer()\n",
    "tokenizer.fit_on_texts([text for text, label in X_train])\n",
    "word_index=tokenizer.word_index"
   ]
  },
  {
   "cell_type": "code",
   "execution_count": 26,
   "metadata": {},
   "outputs": [
    {
     "name": "stdout",
     "output_type": "stream",
     "text": [
      "Vocab Size: 409510\n"
     ]
    }
   ],
   "source": [
    "vocab_size=len(tokenizer.word_index)+1\n",
    "print(f'Vocab Size: {vocab_size}')"
   ]
  },
  {
   "cell_type": "code",
   "execution_count": 33,
   "metadata": {},
   "outputs": [
    {
     "name": "stdout",
     "output_type": "stream",
     "text": [
      "Model: \"sequential_1\"\n",
      "_________________________________________________________________\n",
      "Layer (type)                 Output Shape              Param #   \n",
      "=================================================================\n",
      "embedding_1 (Embedding)      (None, 40, 150)           61426500  \n",
      "_________________________________________________________________\n",
      "bidirectional_1 (Bidirection (None, 256)               285696    \n",
      "_________________________________________________________________\n",
      "dense_1 (Dense)              (None, 2)                 514       \n",
      "=================================================================\n",
      "Total params: 61,712,710\n",
      "Trainable params: 61,712,710\n",
      "Non-trainable params: 0\n",
      "_________________________________________________________________\n"
     ]
    }
   ],
   "source": [
    "model.summary()"
   ]
  },
  {
   "cell_type": "code",
   "execution_count": 27,
   "metadata": {
    "scrolled": true
   },
   "outputs": [],
   "source": [
    "y_train=[label for text, label in X_train]\n",
    "y_test=[label for text, label in X_test]\n",
    "X_train=pad_sequences(tokenizer.texts_to_sequences([' '.join(text) for text, label in X_train]), maxlen=40)\n",
    "X_test=pad_sequences(tokenizer.texts_to_sequences([' '.join(text) for text, label in X_test]), maxlen=40)"
   ]
  },
  {
   "cell_type": "code",
   "execution_count": 29,
   "metadata": {},
   "outputs": [],
   "source": [
    "from tensorflow.keras.utils import to_categorical\n",
    "y_train=to_categorical(y_train)\n",
    "y_test=to_categorical(y_test)"
   ]
  },
  {
   "cell_type": "code",
   "execution_count": 30,
   "metadata": {},
   "outputs": [],
   "source": [
    "from keras.models import Sequential\n",
    "from keras import layers\n",
    "import time"
   ]
  },
  {
   "cell_type": "code",
   "execution_count": 31,
   "metadata": {},
   "outputs": [
    {
     "name": "stdout",
     "output_type": "stream",
     "text": [
      "Epoch 1/5\n",
      "2813/2813 [==============================] - 2321s 818ms/step - loss: 0.4658 - accuracy: 0.7760 - val_loss: 0.5059 - val_accuracy: 0.7506\n",
      "Epoch 2/5\n",
      "2813/2813 [==============================] - 2282s 811ms/step - loss: 0.3577 - accuracy: 0.8418 - val_loss: 0.4992 - val_accuracy: 0.7574\n",
      "Epoch 3/5\n",
      "2813/2813 [==============================] - 2024s 719ms/step - loss: 0.3073 - accuracy: 0.8673 - val_loss: 0.4790 - val_accuracy: 0.7850\n",
      "Epoch 4/5\n",
      "2813/2813 [==============================] - 2526s 898ms/step - loss: 0.2604 - accuracy: 0.8894 - val_loss: 0.5146 - val_accuracy: 0.7823\n",
      "Epoch 5/5\n",
      "2813/2813 [==============================] - 2947s 1s/step - loss: 0.2188 - accuracy: 0.9069 - val_loss: 0.6522 - val_accuracy: 0.7530\n",
      "Time to train: 12101.270072937012\n"
     ]
    }
   ],
   "source": [
    "current_time=time.time()\n",
    "model=Sequential()\n",
    "model.add(layers.Embedding(input_dim=vocab_size,output_dim=100,\\\n",
    "#                       input_length=30))\n",
    "                      input_length=40))\n",
    "model.add(layers.Bidirectional(layers.LSTM(128)))\n",
    "model.add(layers.Dense(2,activation='softmax'))\n",
    "model.compile(optimizer='adam',loss='categorical_crossentropy',\\\n",
    "              metrics=['accuracy'])\n",
    "\n",
    "model.fit(X_train,y_train,batch_size=256,epochs=5,validation_data=(X_test,y_test))\n",
    "print(f'Time to train: {time.time()-current_time}')"
   ]
  },
  {
   "cell_type": "code",
   "execution_count": 101,
   "metadata": {},
   "outputs": [],
   "source": []
  },
  {
   "cell_type": "code",
   "execution_count": 32,
   "metadata": {},
   "outputs": [
    {
     "name": "stdout",
     "output_type": "stream",
     "text": [
      "Epoch 1/5\n",
      "2813/2813 [==============================] - 2731s 969ms/step - loss: 0.4614 - accuracy: 0.7791 - val_loss: 0.5324 - val_accuracy: 0.7374\n",
      "Epoch 2/5\n",
      "2813/2813 [==============================] - 3333s 1s/step - loss: 0.3534 - accuracy: 0.8439 - val_loss: 0.4433 - val_accuracy: 0.7915\n",
      "Epoch 3/5\n",
      "2813/2813 [==============================] - 4162s 1s/step - loss: 0.2982 - accuracy: 0.8716 - val_loss: 0.5090 - val_accuracy: 0.7713\n",
      "Epoch 4/5\n",
      "2813/2813 [==============================] - 3974s 1s/step - loss: 0.2469 - accuracy: 0.8954 - val_loss: 0.4948 - val_accuracy: 0.7916\n",
      "Epoch 5/5\n",
      "2813/2813 [==============================] - 4656s 2s/step - loss: 0.2054 - accuracy: 0.9129 - val_loss: 0.5775 - val_accuracy: 0.7818\n",
      "Time to train: 18858.250916957855\n"
     ]
    }
   ],
   "source": [
    "current_time=time.time()\n",
    "model=Sequential()\n",
    "model.add(layers.Embedding(input_dim=vocab_size,output_dim=150,\\\n",
    "#                       input_length=30))\n",
    "                      input_length=40))\n",
    "model.add(layers.Bidirectional(layers.LSTM(128)))\n",
    "model.add(layers.Dense(2,activation='softmax'))\n",
    "model.compile(optimizer='adam',loss='categorical_crossentropy',\\\n",
    "              metrics=['accuracy'])\n",
    "\n",
    "model.fit(X_train,y_train,batch_size=256,epochs=5,validation_data=(X_test,y_test))\n",
    "print(f'Time to train: {time.time()-current_time}')"
   ]
  },
  {
   "cell_type": "code",
   "execution_count": null,
   "metadata": {},
   "outputs": [],
   "source": []
  },
  {
   "cell_type": "code",
   "execution_count": null,
   "metadata": {},
   "outputs": [],
   "source": []
  },
  {
   "cell_type": "code",
   "execution_count": null,
   "metadata": {},
   "outputs": [],
   "source": []
  },
  {
   "cell_type": "code",
   "execution_count": null,
   "metadata": {},
   "outputs": [],
   "source": []
  },
  {
   "cell_type": "code",
   "execution_count": null,
   "metadata": {},
   "outputs": [],
   "source": []
  },
  {
   "cell_type": "code",
   "execution_count": null,
   "metadata": {},
   "outputs": [],
   "source": []
  },
  {
   "cell_type": "code",
   "execution_count": null,
   "metadata": {},
   "outputs": [],
   "source": [
    "y_train=[label for text, label in X_train]\n",
    "y_test=[label for text, label in X_test]\n",
    "X_train=pad_sequences(tokenizer.texts_to_sequences([' '.join(text) for text, label in X_train]), maxlen=30)\n",
    "X_test=pad_sequences(tokenizer.texts_to_sequences([' '.join(text) for text, label in X_test]), maxlen=30)"
   ]
  }
 ],
 "metadata": {
  "kernelspec": {
   "display_name": "Python 3",
   "language": "python",
   "name": "python3"
  },
  "language_info": {
   "codemirror_mode": {
    "name": "ipython",
    "version": 3
   },
   "file_extension": ".py",
   "mimetype": "text/x-python",
   "name": "python",
   "nbconvert_exporter": "python",
   "pygments_lexer": "ipython3",
   "version": "3.7.1"
  }
 },
 "nbformat": 4,
 "nbformat_minor": 2
}
